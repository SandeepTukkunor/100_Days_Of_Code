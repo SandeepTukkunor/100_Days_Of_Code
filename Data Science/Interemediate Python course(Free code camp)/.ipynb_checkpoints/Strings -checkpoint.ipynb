{
 "cells": [
  {
   "cell_type": "code",
   "execution_count": 5,
   "metadata": {},
   "outputs": [],
   "source": [
    "# string is ordered, immutable, text representation "
   ]
  },
  {
   "cell_type": "code",
   "execution_count": 6,
   "metadata": {},
   "outputs": [
    {
     "name": "stdout",
     "output_type": "stream",
     "text": [
      "Sandeep\n"
     ]
    }
   ],
   "source": [
    "my_string = \"Sandeep\"\n",
    "print(my_string)"
   ]
  },
  {
   "cell_type": "code",
   "execution_count": 7,
   "metadata": {},
   "outputs": [],
   "source": [
    "# we can either use single or double quote \n"
   ]
  },
  {
   "cell_type": "code",
   "execution_count": 8,
   "metadata": {},
   "outputs": [
    {
     "data": {
      "text/plain": [
       "'Hello'"
      ]
     },
     "execution_count": 8,
     "metadata": {},
     "output_type": "execute_result"
    }
   ],
   "source": [
    "my_string2 = \"Hello world\"\n",
    "char = my_string2[0:5] # we can also grab substring \n",
    "\n",
    "char"
   ]
  },
  {
   "cell_type": "code",
   "execution_count": 9,
   "metadata": {},
   "outputs": [
    {
     "data": {
      "text/plain": [
       "'dlrow olleH'"
      ]
     },
     "execution_count": 9,
     "metadata": {},
     "output_type": "execute_result"
    }
   ],
   "source": [
    "# easy trick to reveres the string \n",
    "reversed_string = my_string2[::-1]\n",
    "reversed_string"
   ]
  },
  {
   "cell_type": "code",
   "execution_count": 10,
   "metadata": {},
   "outputs": [
    {
     "name": "stdout",
     "output_type": "stream",
     "text": [
      "hello Sandeep\n"
     ]
    }
   ],
   "source": [
    "# we can concatenate the string \n",
    "greeting = \"hello\"\n",
    "name = \"Sandeep\"\n",
    "print(greeting + \" \"+name)"
   ]
  },
  {
   "cell_type": "code",
   "execution_count": 11,
   "metadata": {},
   "outputs": [],
   "source": [
    "#we can also use loops "
   ]
  },
  {
   "cell_type": "code",
   "execution_count": 12,
   "metadata": {},
   "outputs": [
    {
     "data": {
      "text/plain": [
       "'hello'"
      ]
     },
     "execution_count": 12,
     "metadata": {},
     "output_type": "execute_result"
    }
   ],
   "source": [
    "greeting\n"
   ]
  },
  {
   "cell_type": "code",
   "execution_count": 13,
   "metadata": {},
   "outputs": [
    {
     "name": "stdout",
     "output_type": "stream",
     "text": [
      "h\n",
      "e\n",
      "l\n",
      "l\n",
      "o\n"
     ]
    }
   ],
   "source": [
    "for i in greeting:\n",
    "    print(i)"
   ]
  },
  {
   "cell_type": "code",
   "execution_count": 14,
   "metadata": {},
   "outputs": [
    {
     "name": "stdout",
     "output_type": "stream",
     "text": [
      "yes\n"
     ]
    }
   ],
   "source": [
    "if \"h\" in greeting:\n",
    "    print(\"yes\")\n",
    "else:\n",
    "    print(\"No\")"
   ]
  },
  {
   "cell_type": "code",
   "execution_count": 23,
   "metadata": {},
   "outputs": [
    {
     "name": "stdout",
     "output_type": "stream",
     "text": [
      "SANDEEP\n",
      "sandeep\n",
      "Sandeep\n",
      "2\n",
      "3\n"
     ]
    }
   ],
   "source": [
    "print(my_string.upper())#all uppper cases \n",
    "print(my_string.lower()) #all lower cases \n",
    "print(my_string.capitalize())# first letter is capital \n",
    "print(my_string.count(\"e\")) # returns how many times a character is repeated \n",
    "print(my_string.find(\"d\")) #retruns the position of the charater we have searched for \n"
   ]
  },
  {
   "cell_type": "code",
   "execution_count": 26,
   "metadata": {},
   "outputs": [
    {
     "name": "stdout",
     "output_type": "stream",
     "text": [
      "Hello universe\n"
     ]
    }
   ],
   "source": [
    "#we can also replace words in the string \n",
    "print(my_string2.replace(\"world\", \"universe\")) # it will does not change the string, but will return the new string"
   ]
  },
  {
   "cell_type": "code",
   "execution_count": 28,
   "metadata": {},
   "outputs": [
    {
     "data": {
      "text/plain": [
       "['hello', 'how', 'are', 'you', 'doing?']"
      ]
     },
     "execution_count": 28,
     "metadata": {},
     "output_type": "execute_result"
    }
   ],
   "source": [
    "my_string3 = \"hello how are you doing?\"\n",
    "\n",
    "#to convert the string to list \n",
    "new_list = my_string3.split()\n",
    "new_list"
   ]
  },
  {
   "cell_type": "code",
   "execution_count": 32,
   "metadata": {},
   "outputs": [
    {
     "data": {
      "text/plain": [
       "'hello how are you doing?'"
      ]
     },
     "execution_count": 32,
     "metadata": {},
     "output_type": "execute_result"
    }
   ],
   "source": [
    "#to convert the list to string\n",
    "new_string = \" \".join(new_list) # join method is really useful\n",
    "new_string"
   ]
  },
  {
   "cell_type": "code",
   "execution_count": 33,
   "metadata": {},
   "outputs": [
    {
     "data": {
      "text/plain": [
       "['a', 'a', 'a', 'a', 'a', 'a']"
      ]
     },
     "execution_count": 33,
     "metadata": {},
     "output_type": "execute_result"
    }
   ],
   "source": [
    "my_list = [\"a\"]*6\n",
    "my_list"
   ]
  },
  {
   "cell_type": "code",
   "execution_count": 34,
   "metadata": {},
   "outputs": [
    {
     "name": "stdout",
     "output_type": "stream",
     "text": [
      "aaaaaa\n"
     ]
    }
   ],
   "source": [
    "my_string4  = \"\"\n",
    "for i in my_list:\n",
    "    my_string4 += i\n",
    "print(my_string4)\n",
    "    \n",
    "# this is a bad code, instead we can use .join menthof\n",
    "\n",
    "        \n",
    "    \n",
    "        "
   ]
  },
  {
   "cell_type": "code",
   "execution_count": 35,
   "metadata": {},
   "outputs": [
    {
     "name": "stdout",
     "output_type": "stream",
     "text": [
      "aaaaaa\n"
     ]
    }
   ],
   "source": [
    "print(\"\".join(my_list))"
   ]
  },
  {
   "cell_type": "code",
   "execution_count": 38,
   "metadata": {},
   "outputs": [
    {
     "name": "stdout",
     "output_type": "stream",
     "text": [
      "the variable is tom\n"
     ]
    }
   ],
   "source": [
    "# formatting the strings \n",
    "var = \"tom\"\n",
    "my_string = \"the variable is %s\" % var\n",
    "print(my_string)\n",
    "\n",
    "# we have to use %s for string and %d for integer(decimal). %f for flaoting point value \n",
    "#this is old type of formatting "
   ]
  },
  {
   "cell_type": "code",
   "execution_count": 41,
   "metadata": {},
   "outputs": [
    {
     "name": "stdout",
     "output_type": "stream",
     "text": [
      "the variable is 3.14 and 6\n"
     ]
    }
   ],
   "source": [
    "# this is also little bit older version\n",
    "var = 3.14\n",
    "var2 = 6\n",
    "my_string = \"the variable is {} and {}\".format(var, var2)\n",
    "print(my_string)"
   ]
  },
  {
   "cell_type": "code",
   "execution_count": 43,
   "metadata": {},
   "outputs": [
    {
     "name": "stdout",
     "output_type": "stream",
     "text": [
      "the variable is 3.14 and 6\n"
     ]
    }
   ],
   "source": [
    "# the latest type is \n",
    "var = 3.14\n",
    "var2 = 6\n",
    "my_string = f\"the variable is {var} and {var2}\"\n",
    "print(my_string)"
   ]
  },
  {
   "cell_type": "code",
   "execution_count": null,
   "metadata": {},
   "outputs": [],
   "source": []
  }
 ],
 "metadata": {
  "kernelspec": {
   "display_name": "Python 3",
   "language": "python",
   "name": "python3"
  },
  "language_info": {
   "codemirror_mode": {
    "name": "ipython",
    "version": 3
   },
   "file_extension": ".py",
   "mimetype": "text/x-python",
   "name": "python",
   "nbconvert_exporter": "python",
   "pygments_lexer": "ipython3",
   "version": "3.7.3"
  }
 },
 "nbformat": 4,
 "nbformat_minor": 2
}
