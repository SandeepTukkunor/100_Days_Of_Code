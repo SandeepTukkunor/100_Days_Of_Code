{
 "cells": [
  {
   "cell_type": "code",
   "execution_count": 2,
   "metadata": {},
   "outputs": [],
   "source": [
    "import cv2\n",
    "import matplotlib.pyplot as plt"
   ]
  },
  {
   "cell_type": "code",
   "execution_count": 3,
   "metadata": {},
   "outputs": [],
   "source": [
    "def draw_circle(event, x, y , flags, param):\n",
    "    \n",
    "    global center, clicked\n",
    "    \n",
    "    #get mouse click down and track center \n",
    "    if event == cv2.EVENT_LBUTTONDOWN:\n",
    "        center = (x,y)\n",
    "        clicked = False\n",
    "        \n",
    "    if event == cv2.EVENT_LBUTTONUP:\n",
    "        clicked = True\n",
    "        \n",
    "        \n",
    "\n",
    "center = (0,0)\n",
    "clicked = False\n",
    "\n",
    "#capture the video\n",
    "cap = cv2.VideoCapture(0)\n",
    "\n",
    "#create a named window for connections \n",
    "cv2.namedWindow(\"test\")\n",
    "\n",
    "#bind draw_circle to mouse clicks\n",
    "\n",
    "cv2.setMouseCallback(\"test\", draw_circle)\n",
    "\n",
    "\n",
    "\n",
    "while True:\n",
    "    \n",
    "    #capture frame by frame \n",
    "    \n",
    "    ret, frame = cap.read()\n",
    "    \n",
    "    #use if statement to see if clicked is true\n",
    "    if clicked == True:\n",
    "        cv2.circle(frame, center = center, radius = 50, color = (255,0,0), thickness = 5)\n",
    "        \n",
    "        \n",
    "        \n",
    "    #display the resulting frame \n",
    "    cv2.imshow('test', frame)\n",
    "    \n",
    "    \n",
    "    \n",
    "    if cv2.waitKey(1) & 0xFF  == ord('q'):\n",
    "        break\n",
    "        \n",
    "        \n",
    "cap.release()\n",
    "cv2.destroyAllWindows()\n",
    "    \n",
    "    \n",
    "\n",
    "        "
   ]
  },
  {
   "cell_type": "code",
   "execution_count": null,
   "metadata": {},
   "outputs": [],
   "source": []
  }
 ],
 "metadata": {
  "kernelspec": {
   "display_name": "Python 3",
   "language": "python",
   "name": "python3"
  },
  "language_info": {
   "codemirror_mode": {
    "name": "ipython",
    "version": 3
   },
   "file_extension": ".py",
   "mimetype": "text/x-python",
   "name": "python",
   "nbconvert_exporter": "python",
   "pygments_lexer": "ipython3",
   "version": "3.8.5"
  }
 },
 "nbformat": 4,
 "nbformat_minor": 4
}
