{
 "cells": [
  {
   "cell_type": "code",
   "execution_count": 8,
   "metadata": {},
   "outputs": [],
   "source": [
    "import numpy as np\n",
    "import cv2\n",
    "\n",
    "\n",
    "#VARIABLES\n",
    "\n",
    "#true while mouse button down, false while mouse button up\n",
    "drawing = False\n",
    "ix = -1\n",
    "iy = -1\n",
    "\n",
    "\n",
    "##function #####\n",
    "def draw_rectangle(event, x,y,flags, param):\n",
    "    global ix, iy, drawing \n",
    "    #case for drawing, that is when the mouse button is pressed\n",
    "    if event == cv2.EVENT_LBUTTONDOWN:\n",
    "        drawing = True\n",
    "        ix, iy = x,y \n",
    "        #when the mouse button is pressed and moving \n",
    "    elif event == cv2.EVENT_MOUSEMOVE:\n",
    "        if drawing == True:\n",
    "            cv2.rectangle(img, (ix,iy), (x,y), (0, 255,0), -1)\n",
    "       #when the mouse button is up, that is not clicked     \n",
    "    elif event == cv2.EVENT_LBUTTONUP:\n",
    "        drawing = False\n",
    "        cv2.rectangle(img,(ix,iy),(x,y), (0, 255,0), -1)\n",
    "    \n",
    "    \n",
    "    \n",
    "    \n",
    "#black Image   \n",
    "img = np.zeros((512,512,3))\n",
    "cv2.namedWindow(winname= \"my_drawing\")\n",
    "               \n",
    "cv2.setMouseCallback(\"my_drawing\", draw_rectangle)\n",
    "\n",
    "\n",
    "\n",
    "while True:\n",
    "    cv2.imshow(\"my_drawing\", img)\n",
    "    #checks for esc\n",
    "    if cv2.waitKey(10) & 0xFF ==27:\n",
    "        break\n",
    "cv2.destroyAllWindows()\n",
    "    \n",
    "\n",
    "\n",
    "\n",
    "\n",
    "\n",
    "\n",
    "\n",
    "\n",
    "\n"
   ]
  },
  {
   "cell_type": "code",
   "execution_count": 6,
   "metadata": {},
   "outputs": [
    {
     "data": {
      "text/plain": [
       "array([[1, 2],\n",
       "       [1, 2]])"
      ]
     },
     "execution_count": 6,
     "metadata": {},
     "output_type": "execute_result"
    }
   ],
   "source": [
    "np.array([[1,2], [1,2]])"
   ]
  },
  {
   "cell_type": "code",
   "execution_count": null,
   "metadata": {},
   "outputs": [],
   "source": []
  },
  {
   "cell_type": "code",
   "execution_count": null,
   "metadata": {},
   "outputs": [],
   "source": []
  }
 ],
 "metadata": {
  "kernelspec": {
   "display_name": "Python 3",
   "language": "python",
   "name": "python3"
  },
  "language_info": {
   "codemirror_mode": {
    "name": "ipython",
    "version": 3
   },
   "file_extension": ".py",
   "mimetype": "text/x-python",
   "name": "python",
   "nbconvert_exporter": "python",
   "pygments_lexer": "ipython3",
   "version": "3.6.6"
  }
 },
 "nbformat": 4,
 "nbformat_minor": 2
}
