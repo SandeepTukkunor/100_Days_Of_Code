{
 "cells": [
  {
   "cell_type": "code",
   "execution_count": 1,
   "id": "outstanding-grass",
   "metadata": {},
   "outputs": [],
   "source": [
    "# regular expression allow for pattern searching in text document "
   ]
  },
  {
   "cell_type": "code",
   "execution_count": 2,
   "id": "quiet-indication",
   "metadata": {},
   "outputs": [],
   "source": [
    "text = \"the phone number of the agent is 408-555-1234. call soon\""
   ]
  },
  {
   "cell_type": "code",
   "execution_count": 3,
   "id": "committed-voluntary",
   "metadata": {},
   "outputs": [
    {
     "data": {
      "text/plain": [
       "True"
      ]
     },
     "execution_count": 3,
     "metadata": {},
     "output_type": "execute_result"
    }
   ],
   "source": [
    "\"408-555-1234\" in text"
   ]
  },
  {
   "cell_type": "code",
   "execution_count": 4,
   "id": "fresh-letter",
   "metadata": {},
   "outputs": [],
   "source": [
    "import re\n"
   ]
  },
  {
   "cell_type": "code",
   "execution_count": 5,
   "id": "amber-energy",
   "metadata": {},
   "outputs": [],
   "source": [
    "pattern = \"phone\""
   ]
  },
  {
   "cell_type": "code",
   "execution_count": 7,
   "id": "gross-milan",
   "metadata": {},
   "outputs": [],
   "source": [
    "my_match = re.search(pattern, text)"
   ]
  },
  {
   "cell_type": "code",
   "execution_count": 8,
   "id": "seeing-planning",
   "metadata": {},
   "outputs": [
    {
     "data": {
      "text/plain": [
       "(4, 9)"
      ]
     },
     "execution_count": 8,
     "metadata": {},
     "output_type": "execute_result"
    }
   ],
   "source": [
    "my_match.span()"
   ]
  },
  {
   "cell_type": "code",
   "execution_count": 9,
   "id": "hearing-socket",
   "metadata": {},
   "outputs": [
    {
     "data": {
      "text/plain": [
       "4"
      ]
     },
     "execution_count": 9,
     "metadata": {},
     "output_type": "execute_result"
    }
   ],
   "source": [
    "my_match.start()"
   ]
  },
  {
   "cell_type": "code",
   "execution_count": null,
   "id": "covered-principal",
   "metadata": {},
   "outputs": [],
   "source": []
  },
  {
   "cell_type": "code",
   "execution_count": null,
   "id": "promotional-blink",
   "metadata": {},
   "outputs": [],
   "source": []
  },
  {
   "cell_type": "code",
   "execution_count": 10,
   "id": "respiratory-atlas",
   "metadata": {},
   "outputs": [],
   "source": [
    "text = \"my phone is new phone\""
   ]
  },
  {
   "cell_type": "code",
   "execution_count": 13,
   "id": "fitting-puppy",
   "metadata": {},
   "outputs": [
    {
     "data": {
      "text/plain": [
       "<re.Match object; span=(3, 8), match='phone'>"
      ]
     },
     "execution_count": 13,
     "metadata": {},
     "output_type": "execute_result"
    }
   ],
   "source": [
    "re.search(pattern, text) #it will find only the first instance \n"
   ]
  },
  {
   "cell_type": "code",
   "execution_count": 15,
   "id": "trained-background",
   "metadata": {},
   "outputs": [],
   "source": [
    "all_matches = re.findall(\"phone\", text)"
   ]
  },
  {
   "cell_type": "code",
   "execution_count": 16,
   "id": "packed-virtue",
   "metadata": {},
   "outputs": [
    {
     "data": {
      "text/plain": [
       "['phone', 'phone']"
      ]
     },
     "execution_count": 16,
     "metadata": {},
     "output_type": "execute_result"
    }
   ],
   "source": [
    "all_matches"
   ]
  },
  {
   "cell_type": "code",
   "execution_count": 22,
   "id": "australian-outside",
   "metadata": {},
   "outputs": [
    {
     "name": "stdout",
     "output_type": "stream",
     "text": [
      "(3, 8)\n",
      "(16, 21)\n"
     ]
    }
   ],
   "source": [
    "for match in re.finditer(\"phone\", text):\n",
    "    print(match.span())"
   ]
  },
  {
   "cell_type": "code",
   "execution_count": null,
   "id": "faced-association",
   "metadata": {},
   "outputs": [],
   "source": []
  }
 ],
 "metadata": {
  "kernelspec": {
   "display_name": "Python 3",
   "language": "python",
   "name": "python3"
  },
  "language_info": {
   "codemirror_mode": {
    "name": "ipython",
    "version": 3
   },
   "file_extension": ".py",
   "mimetype": "text/x-python",
   "name": "python",
   "nbconvert_exporter": "python",
   "pygments_lexer": "ipython3",
   "version": "3.7.3"
  }
 },
 "nbformat": 4,
 "nbformat_minor": 5
}
