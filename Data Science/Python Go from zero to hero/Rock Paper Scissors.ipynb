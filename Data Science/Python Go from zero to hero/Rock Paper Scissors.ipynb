{
 "cells": [
  {
   "cell_type": "code",
   "execution_count": 28,
   "metadata": {},
   "outputs": [
    {
     "name": "stdout",
     "output_type": "stream",
     "text": [
      "Rock\n",
      "my choice is  Rock\n"
     ]
    }
   ],
   "source": [
    "import random\n",
    "import numpy as np\n",
    "import pandas as pd\n",
    "choice = input()\n",
    "print(\"my choice is \", choice)\n",
    "\n",
    "\n"
   ]
  },
  {
   "cell_type": "code",
   "execution_count": 33,
   "metadata": {},
   "outputs": [
    {
     "name": "stdout",
     "output_type": "stream",
     "text": [
      "computer choice is  rock\n"
     ]
    }
   ],
   "source": [
    "#choices for the computer \n",
    "from random import randint\n",
    "choices =  [\"rock\", \"paper\", \"scissors\"]\n",
    "\n",
    "computer_choice = choices[random.randint(0,len(choices)-1)]\n",
    "\n",
    "print(\"computer choice is \", computer_choice)"
   ]
  },
  {
   "cell_type": "code",
   "execution_count": 35,
   "metadata": {},
   "outputs": [],
   "source": [
    "#now comparison part \n",
    "if choice == \"rock\":\n",
    "    if computer_choice == 'rock':\n",
    "        print(\"its a Tie\")\n",
    "    elif computer_choice == \"paper\":\n",
    "        print(\"you loose ....Sorry \")\n",
    "    elif computer_choice == \"scissors\":\n",
    "        print(\"You win.... Congrats \")"
   ]
  },
  {
   "cell_type": "code",
   "execution_count": null,
   "metadata": {},
   "outputs": [],
   "source": []
  },
  {
   "cell_type": "code",
   "execution_count": null,
   "metadata": {},
   "outputs": [],
   "source": []
  }
 ],
 "metadata": {
  "kernelspec": {
   "display_name": "Python 3",
   "language": "python",
   "name": "python3"
  },
  "language_info": {
   "codemirror_mode": {
    "name": "ipython",
    "version": 3
   },
   "file_extension": ".py",
   "mimetype": "text/x-python",
   "name": "python",
   "nbconvert_exporter": "python",
   "pygments_lexer": "ipython3",
   "version": "3.7.3"
  }
 },
 "nbformat": 4,
 "nbformat_minor": 2
}
