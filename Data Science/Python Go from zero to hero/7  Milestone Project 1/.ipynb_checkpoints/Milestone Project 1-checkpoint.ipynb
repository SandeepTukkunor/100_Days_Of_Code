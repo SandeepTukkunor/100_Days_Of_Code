{
 "cells": [
  {
   "cell_type": "markdown",
   "metadata": {},
   "source": [
    "# Building Tic-tac-toe"
   ]
  },
  {
   "cell_type": "code",
   "execution_count": 3,
   "metadata": {},
   "outputs": [],
   "source": [
    "#printing out the board first \n",
    "from IPython.display import clear_output\n",
    "\n",
    "def display_board(board):\n",
    "    \n",
    "    clear_output()\n",
    "    \n",
    "    print(board[7] + \"|\" + board[8] + \"|\" + board[9])\n",
    "    print(board[4] + \"|\" + board[5] + \"|\" + board[6])\n",
    "    print(board[1] + \"|\" + board[2] + \"|\" + board[3])"
   ]
  },
  {
   "cell_type": "code",
   "execution_count": 6,
   "metadata": {},
   "outputs": [
    {
     "name": "stdout",
     "output_type": "stream",
     "text": [
      "x|o|x\n",
      "o|x|o\n",
      "x|o|x\n"
     ]
    }
   ],
   "source": [
    "#run your function on test version of the board list, make adjustments as necessory \n",
    "test_board = [\"#\", \"x\",\"o\",\"x\",\"o\",\"x\",\"o\",\"x\",\"o\",\"x\"]\n",
    "display_board(test_board)\n"
   ]
  },
  {
   "cell_type": "code",
   "execution_count": null,
   "metadata": {},
   "outputs": [],
   "source": []
  }
 ],
 "metadata": {
  "kernelspec": {
   "display_name": "Python 3",
   "language": "python",
   "name": "python3"
  },
  "language_info": {
   "codemirror_mode": {
    "name": "ipython",
    "version": 3
   },
   "file_extension": ".py",
   "mimetype": "text/x-python",
   "name": "python",
   "nbconvert_exporter": "python",
   "pygments_lexer": "ipython3",
   "version": "3.7.3"
  }
 },
 "nbformat": 4,
 "nbformat_minor": 2
}
