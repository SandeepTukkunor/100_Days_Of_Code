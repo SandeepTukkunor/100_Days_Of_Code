{
 "cells": [
  {
   "cell_type": "code",
   "execution_count": 1,
   "metadata": {},
   "outputs": [
    {
     "name": "stdout",
     "output_type": "stream",
     "text": [
      "pring\n",
      "my choice is  pring\n",
      "computer choice is  paper\n",
      "invalid entry, Try later\n"
     ]
    }
   ],
   "source": [
    "import random\n",
    "\n",
    "    \n",
    "choice = input()\n",
    "print(\"my choice is \", choice)\n",
    "\n",
    "#choices for the computer \n",
    "from random import randint\n",
    "choices =  [\"rock\", \"paper\", \"scissors\"]\n",
    "\n",
    "computer_choice = choices[random.randint(0,len(choices)-1)]\n",
    "\n",
    "\n",
    "print(\"computer choice is \", computer_choice)\n",
    "\n",
    "if choice in choices:\n",
    "\n",
    "\n",
    "\n",
    "\n",
    "#now comparison part \n",
    "    if choice == \"rock\":\n",
    "        if computer_choice == 'rock':\n",
    "            print(\"its a Tie\")\n",
    "        elif computer_choice == \"paper\":    \n",
    "            print(\"you loose ....Sorry \")\n",
    "        elif computer_choice == \"scissors\":\n",
    "            print(\"You win.... Congrats \")\n",
    "\n",
    "    #choice for paper\n",
    "    if choice == \"paper\":\n",
    "        if computer_choice == 'paper':\n",
    "            print(\"its a Tie\")\n",
    "        elif computer_choice == \"scissors\":    \n",
    "            print(\"you loose ....Sorry \")\n",
    "        elif computer_choice == \"rock\":\n",
    "            print(\"You win.... Congrats \")\n",
    "\n",
    "\n",
    "\n",
    "    if choice == \"scissors\":\n",
    "        if computer_choice == 'scissors':\n",
    "            print(\"its a Tie\")\n",
    "        elif computer_choice == \"rock\":    \n",
    "            print(\"you loose ....Sorry \")\n",
    "        elif computer_choice == \"paper\":\n",
    "            print(\"You win.... Congrats \")\n",
    "else:\n",
    "    print(\"invalid entry, Try later\")\n",
    "        \n",
    "        \n",
    "\n",
    "            \n",
    "\n",
    "\n",
    "\n"
   ]
  },
  {
   "cell_type": "code",
   "execution_count": null,
   "metadata": {},
   "outputs": [],
   "source": []
  },
  {
   "cell_type": "code",
   "execution_count": null,
   "metadata": {},
   "outputs": [],
   "source": []
  },
  {
   "cell_type": "code",
   "execution_count": null,
   "metadata": {},
   "outputs": [],
   "source": []
  },
  {
   "cell_type": "code",
   "execution_count": null,
   "metadata": {},
   "outputs": [],
   "source": []
  },
  {
   "cell_type": "code",
   "execution_count": null,
   "metadata": {},
   "outputs": [],
   "source": []
  },
  {
   "cell_type": "code",
   "execution_count": null,
   "metadata": {},
   "outputs": [],
   "source": []
  }
 ],
 "metadata": {
  "kernelspec": {
   "display_name": "Python 3",
   "language": "python",
   "name": "python3"
  },
  "language_info": {
   "codemirror_mode": {
    "name": "ipython",
    "version": 3
   },
   "file_extension": ".py",
   "mimetype": "text/x-python",
   "name": "python",
   "nbconvert_exporter": "python",
   "pygments_lexer": "ipython3",
   "version": "3.7.3"
  }
 },
 "nbformat": 4,
 "nbformat_minor": 2
}
