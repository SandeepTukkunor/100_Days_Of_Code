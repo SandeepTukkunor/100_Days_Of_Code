{
 "cells": [
  {
   "cell_type": "code",
   "execution_count": 3,
   "metadata": {},
   "outputs": [],
   "source": []
  },
  {
   "cell_type": "code",
   "execution_count": 5,
   "metadata": {},
   "outputs": [
    {
     "name": "stdout",
     "output_type": "stream",
     "text": [
      "Given array is\n",
      "12 11 13 5 6 7\n",
      "Sorted array is : \n",
      "5 6 7 11 12 13\n"
     ]
    }
   ],
   "source": [
    "\n",
    "\n",
    "  \n",
    "def merge_sort(values): \n",
    "  \n",
    "    if len(values)>1: \n",
    "        m = len(values)//2\n",
    "        left = values[:m] \n",
    "        right = values[m:] \n",
    "        left = merge_sort(left) \n",
    "        right = merge_sort(right) \n",
    "  \n",
    "        values =[] \n",
    "  \n",
    "        while len(left)>0 and len(right)>0: \n",
    "            if left[0]<right[0]: \n",
    "                values.append(left[0]) \n",
    "                left.pop(0) \n",
    "            else: \n",
    "                values.append(right[0]) \n",
    "                right.pop(0) \n",
    "  \n",
    "        for i in left: \n",
    "            values.append(i) \n",
    "        for i in right: \n",
    "            values.append(i) \n",
    "                  \n",
    "    return values \n",
    "  \n",
    "# Input list \n",
    "a = [12, 11, 13, 5, 6, 7] \n",
    "print(\"Given array is\") \n",
    "print(*a) \n",
    "  \n",
    "a = merge_sort(a) \n",
    "  \n",
    "# Print output \n",
    "print(\"Sorted array is : \") \n",
    "print(*a) "
   ]
  },
  {
   "cell_type": "code",
   "execution_count": null,
   "metadata": {},
   "outputs": [],
   "source": [
    "def merge_sort(values):\n",
    "    \n",
    "    \n",
    "    if len(values)>1:\n",
    "        m = len(values)/2\n",
    "        left = values[:m]\n",
    "        right = values[m:]\n",
    "        left = merge_sort(left)\n",
    "        \n",
    "        \n"
   ]
  }
 ],
 "metadata": {
  "kernelspec": {
   "display_name": "Python 3",
   "language": "python",
   "name": "python3"
  },
  "language_info": {
   "codemirror_mode": {
    "name": "ipython",
    "version": 3
   },
   "file_extension": ".py",
   "mimetype": "text/x-python",
   "name": "python",
   "nbconvert_exporter": "python",
   "pygments_lexer": "ipython3",
   "version": "3.7.3"
  }
 },
 "nbformat": 4,
 "nbformat_minor": 2
}
